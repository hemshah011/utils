{
 "cells": [
  {
   "cell_type": "code",
   "execution_count": 27,
   "metadata": {},
   "outputs": [],
   "source": [
    "from bs4 import BeautifulSoup\n",
    "import os"
   ]
  },
  {
   "cell_type": "code",
   "execution_count": 28,
   "metadata": {},
   "outputs": [],
   "source": [
    "global company,script\n",
    "path=os.path.abspath('temp')\n",
    "soup=BeautifulSoup(open('{}/sample.html'.format(path)),'html.parser')"
   ]
  },
  {
   "cell_type": "code",
   "execution_count": 29,
   "metadata": {},
   "outputs": [],
   "source": [
    "logo=\"data:image/png;base64,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\"\n",
    "pic1=logo\n",
    "soup.find_all('img')[1].attrs['src']=\"{}\".format(logo)\n",
    "soup.find_all('img')[2].attrs['src']=\"{}\".format(pic1)"
   ]
  },
  {
   "cell_type": "code",
   "execution_count": 30,
   "metadata": {},
   "outputs": [],
   "source": [
    "company=\"autobot\"\n",
    "soup.find_all('section')[1].h3.string=company\n",
    "soup.find_all('section')[1].p.string=\"Why {} ?\".format(company)\n",
    "soup.find_all('section')[2].h3.string=company\n",
    "soup.find_all('section')[2].p.string=\"{} Description\".format(company)"
   ]
  },
  {
   "cell_type": "code",
   "execution_count": 31,
   "metadata": {},
   "outputs": [
    {
     "data": {
      "text/plain": [
       "'\\n      (function (d, t) {\\n        var BASE_URL = \"https://dashboard.limechat.ai\";\\n        var g = d.createElement(t),\\n          s = d.getElementsByTagName(t)[0];\\n        g.src = BASE_URL + \"/packs/js/sdk.js\";\\n        g.defer = true;\\n        s.parentNode.insertBefore(g, s);\\n        g.onload = function () {\\n          window.chatwootSDK.run({\\n            websiteToken: \"b3fuHo1EoBMXm9rcWGr4WZS\",\\n            baseUrl: BASE_URL,\\n          });\\n        };\\n      })(document, \"script\");\\n    '"
      ]
     },
     "execution_count": 31,
     "metadata": {},
     "output_type": "execute_result"
    }
   ],
   "source": [
    "# script='abcebwfowqi'\n",
    "soup.find_all('script')[1].string"
   ]
  },
  {
   "cell_type": "code",
   "execution_count": 32,
   "metadata": {},
   "outputs": [],
   "source": [
    "html = soup.prettify(\"utf-8\")\n",
    "with open(\"{}.html\".format(company), \"w\", encoding='utf-8') as file:\n",
    "    file.write(str(soup))"
   ]
  },
  {
   "cell_type": "code",
   "execution_count": null,
   "metadata": {},
   "outputs": [],
   "source": []
  },
  {
   "cell_type": "code",
   "execution_count": null,
   "metadata": {},
   "outputs": [],
   "source": []
  }
 ],
 "metadata": {
  "interpreter": {
   "hash": "279a44b40672988415fcb206a6013328eb7119c7e3220aa54ff9e4d577b8f4a7"
  },
  "kernelspec": {
   "display_name": "Python 3.6.13 64-bit ('limekit': conda)",
   "language": "python",
   "name": "python3"
  },
  "language_info": {
   "codemirror_mode": {
    "name": "ipython",
    "version": 3
   },
   "file_extension": ".py",
   "mimetype": "text/x-python",
   "name": "python",
   "nbconvert_exporter": "python",
   "pygments_lexer": "ipython3",
   "version": "3.6.13"
  },
  "orig_nbformat": 4
 },
 "nbformat": 4,
 "nbformat_minor": 2
}

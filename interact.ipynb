{
 "cells": [
  {
   "cell_type": "code",
   "execution_count": null,
   "metadata": {},
   "outputs": [],
   "source": [
    "import pexpect\n",
    "pexpect.__version__"
   ]
  },
  {
   "cell_type": "code",
   "execution_count": null,
   "metadata": {},
   "outputs": [],
   "source": [
    "GITLAB_USERNAME=\"hemshah\"\n",
    "GITLAB_PASSWORD=\"1345\"\n",
    "child=pexpect.spawn('ssh limechat@13.94.61.225')\n",
    "child.expect(\"limechat@13.94.61.225's password:\")\n",
    "child.sendline('Wavicle@12345')\n",
    "# child.sendline(\"cd apps/demo-website/\")\n",
    "# child.expect(\"limechat@limechat-website:~/apps/demo-website\")\n",
    "# child.sendline(\"git pull origin master\")\n",
    "# child.expect(\"Username for 'https://gitlab.com':\")\n",
    "# child.sendline(GITLAB_USERNAME)\n",
    "# child.expect(\"Password for 'https://{}@gitlab.com':\".format(GITLAB_USERNAME))\n",
    "# child.sendline(GITLAB_PASSWORD)\n",
    "# child.expect(\"limechat@limechat-website:~/apps/demo-website\")\n",
    "# child.sendline(\"pm2 reload demo\")\n",
    "# child.expect(\"limechat@limechat-website:~/apps/demo-website\")\n",
    "print(child.before.decode())\n",
    "child.expect(\".*\")\n",
    "child.sendline(\"exit\")\n",
    "child.close()"
   ]
  },
  {
   "cell_type": "code",
   "execution_count": null,
   "metadata": {},
   "outputs": [],
   "source": [
    "child=pexpect.spawn(\"ssh limechat@13.94.61.225\")\n",
    "child.expect(\"limechat@13.94.61.225's password:\")\n",
    "child.sendline('Wavicle@12345')\n",
    "print(\"first child\", child.before)\n",
    "print('logged in')\n",
    "child.expect(\"limechat@limechat-website:~\\$ \")\n",
    "# child.sendline('hostname')\n",
    "# print (\"Got hostname\")\n",
    "# child.expect(\"limechat@limechat-website:~\\$ \")\n",
    "# print(\"Second child\", child.before)\n",
    "child.sendline('exit')\n"
   ]
  },
  {
   "cell_type": "code",
   "execution_count": 61,
   "metadata": {},
   "outputs": [
    {
     "name": "stdout",
     "output_type": "stream",
     "text": [
      "Cloning into 'demo-website'...\n",
      "\n",
      "team336\n",
      "\n"
     ]
    }
   ],
   "source": [
    "import pexpect\n",
    "child = pexpect.spawn('git clone https:\\/\\/gitlab.com\\/gupta.nikhil\\/demo-website')\n",
    "# child.expect('Username.*: ')\n",
    "child.expect([pexpect.TIMEOUT,'Username.*: ',pexpect.EOF])\n",
    "child.sendline(\"team336\")\n",
    "print(child.before.decode())\n",
    "# child.expect('Password.*: ')\n",
    "child.expect([pexpect.TIMEOUT,'Password.*: ',pexpect.EOF])\n",
    "child.sendline(\"wavicle123\")\n",
    "# child.expect(pexpect.EOF)\n",
    "print(child.before.decode())\n"
   ]
  },
  {
   "cell_type": "code",
   "execution_count": null,
   "metadata": {},
   "outputs": [],
   "source": []
  }
 ],
 "metadata": {
  "interpreter": {
   "hash": "279a44b40672988415fcb206a6013328eb7119c7e3220aa54ff9e4d577b8f4a7"
  },
  "kernelspec": {
   "display_name": "Python 3.6.13 64-bit ('limekit': conda)",
   "language": "python",
   "name": "python3"
  },
  "language_info": {
   "codemirror_mode": {
    "name": "ipython",
    "version": 3
   },
   "file_extension": ".py",
   "mimetype": "text/x-python",
   "name": "python",
   "nbconvert_exporter": "python",
   "pygments_lexer": "ipython3",
   "version": "3.6.13"
  },
  "orig_nbformat": 4
 },
 "nbformat": 4,
 "nbformat_minor": 2
}

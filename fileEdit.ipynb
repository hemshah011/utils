{
 "cells": [
  {
   "cell_type": "code",
   "execution_count": 22,
   "metadata": {},
   "outputs": [],
   "source": [
    "import os,fileinput"
   ]
  },
  {
   "cell_type": "code",
   "execution_count": 29,
   "metadata": {},
   "outputs": [],
   "source": [
    "company='autobot'\n",
    "path=os.path.abspath(\"MainRoutes.ts\")\n",
    "with open(path, \"r+\") as f:\n",
    "    contents = f.readlines()\n",
    "    contents.insert(contents.index(\" // Production Pages\\n\"),\" router.route('/{}').get(mainController.{});\\n\".format(company,company))\n",
    "    contents.insert(contents.index(\" module.exports = router;\\n\")-1,\" router.route('/prod/{}').get(mainController.{}_prod);\\n\".format(company,company))\n",
    "    f.seek(0)\n",
    "    f.writelines(contents)"
   ]
  },
  {
   "cell_type": "code",
   "execution_count": null,
   "metadata": {},
   "outputs": [],
   "source": [
    "company='autobot'\n",
    "path=os.path.abspath(\"MainRoutes.ts\")\n",
    "with open(path, \"r+\") as f:\n",
    "    contents = f.readlines()\n",
    "    contents.insert(contents.index(\" // Production Pages\\n\"),\" router.route('/{}').get(mainController.{});\\n\".format(company,company))\n",
    "    contents.insert(contents.index(\" module.exports = router;\\n\")-1,\" router.route('/prod/{}').get(mainController.{}_prod);\\n\".format(company,company))\n",
    "    f.seek(0)\n",
    "    f.writelines(contents)"
   ]
  }
 ],
 "metadata": {
  "interpreter": {
   "hash": "279a44b40672988415fcb206a6013328eb7119c7e3220aa54ff9e4d577b8f4a7"
  },
  "kernelspec": {
   "display_name": "Python 3.6.13 64-bit ('limekit': conda)",
   "language": "python",
   "name": "python3"
  },
  "language_info": {
   "codemirror_mode": {
    "name": "ipython",
    "version": 3
   },
   "file_extension": ".py",
   "mimetype": "text/x-python",
   "name": "python",
   "nbconvert_exporter": "python",
   "pygments_lexer": "ipython3",
   "version": "3.6.13"
  },
  "orig_nbformat": 4
 },
 "nbformat": 4,
 "nbformat_minor": 2
}

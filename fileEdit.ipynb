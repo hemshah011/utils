{
 "cells": [
  {
   "cell_type": "code",
   "execution_count": 4,
   "metadata": {},
   "outputs": [],
   "source": [
    "import os"
   ]
  },
  {
   "cell_type": "code",
   "execution_count": 16,
   "metadata": {},
   "outputs": [],
   "source": [
    "company='autobot'\n",
    "path=os.path.abspath(\"MainRoutes.ts\")\n",
    "with open(path, \"r+\") as f:\n",
    "    contents = f.readlines()\n",
    "    contents.insert(contents.index(\" // Production Pages\\n\"),\" router.route('/{}').get(mainController.{});\\n\".format(company,company))\n",
    "    contents.insert(contents.index(\" module.exports = router;\")-1,\" router.route('/prod/{}').get(mainController.{}_prod);\\n\".format(company,company))\n",
    "    f.seek(0)\n",
    "    f.writelines(contents)"
   ]
  },
  {
   "cell_type": "code",
   "execution_count": 33,
   "metadata": {},
   "outputs": [],
   "source": [
    "company='autobot'\n",
    "path=os.path.abspath(\"MainController.ts\")\n",
    "with open(path, \"r+\") as f:\n",
    "    contents = f.readlines()\n",
    "    contents.insert(contents.index(\"     //Prod exports\\n\"),\"     {}: {},\\n\".format(company,company))\n",
    "    contents[contents.index(\" };\\n\")-1]=contents[contents.index(\" };\\n\")-1].replace('\\n',',\\n')\n",
    "    contents.insert(contents.index(\" };\\n\"),\"     {}_prod: {}_prod\\n\".format(company,company))\n",
    "    contents.insert(contents.index(' // Production Exports\\n'),'\\n')\n",
    "    contents.insert(contents.index(' // Production Exports\\n'),' function {}(req : any, res : any) {{\\n'.format(company))\n",
    "    contents.insert(contents.index(' // Production Exports\\n'),\"     res.render('company/{}.html', {{\\n\".format(company))\n",
    "    contents.insert(contents.index(' // Production Exports\\n'),'         user: req.session.user,\\n')\n",
    "    contents.insert(contents.index(' // Production Exports\\n'),'     });\\n')\n",
    "    contents.insert(contents.index(' // Production Exports\\n'),' }\\n')\n",
    "    contents.append('\\n\\n')\n",
    "    contents.append(' function {}_prod(req : any, res : any) {{\\n'.format(company))\n",
    "    contents.append(\"     res.render('production/{}.html', {{\\n\".format(company))\n",
    "    contents.append('         user: req.session.user,\\n')\n",
    "    contents.append(\"         title: 'LimeChat Demo'\\n\")\n",
    "    contents.append('     });\\n')\n",
    "    contents.append(' }')\n",
    "    f.seek(0)\n",
    "    f.writelines(contents)"
   ]
  },
  {
   "cell_type": "code",
   "execution_count": null,
   "metadata": {},
   "outputs": [],
   "source": []
  }
 ],
 "metadata": {
  "interpreter": {
   "hash": "279a44b40672988415fcb206a6013328eb7119c7e3220aa54ff9e4d577b8f4a7"
  },
  "kernelspec": {
   "display_name": "Python 3.6.13 64-bit ('limekit': conda)",
   "language": "python",
   "name": "python3"
  },
  "language_info": {
   "codemirror_mode": {
    "name": "ipython",
    "version": 3
   },
   "file_extension": ".py",
   "mimetype": "text/x-python",
   "name": "python",
   "nbconvert_exporter": "python",
   "pygments_lexer": "ipython3",
   "version": "3.6.13"
  },
  "orig_nbformat": 4
 },
 "nbformat": 4,
 "nbformat_minor": 2
}

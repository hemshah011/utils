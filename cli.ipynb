{
 "cells": [
  {
   "cell_type": "code",
   "execution_count": null,
   "id": "colored-employer",
   "metadata": {},
   "outputs": [],
   "source": [
    "import os"
   ]
  },
  {
   "cell_type": "code",
   "execution_count": 1,
   "id": "derived-eight",
   "metadata": {},
   "outputs": [
    {
     "data": {
      "text/plain": [
       "0"
      ]
     },
     "execution_count": 1,
     "metadata": {},
     "output_type": "execute_result"
    }
   ],
   "source": [
    "os.system(\"ls\")\n",
    "os.system(\"touch abc.txt\")\n",
    "# gives exit status: 0 is the correct one not 256"
   ]
  },
  {
   "cell_type": "code",
   "execution_count": null,
   "id": "rotary-kruger",
   "metadata": {},
   "outputs": [],
   "source": [
    "# os.popen(\"ls\") gives and object\n",
    "print(os.popen(\"ls\").read())"
   ]
  },
  {
   "cell_type": "code",
   "execution_count": null,
   "id": "dcd75705",
   "metadata": {},
   "outputs": [],
   "source": [
    "os.spawnl(os.P_NOWAIT,\"usr/sh\",\"ls\")\n",
    "# P_NOWAIT: async\n",
    "# usr.sh : path to cli\n",
    "# Returns a process id"
   ]
  },
  {
   "cell_type": "code",
   "execution_count": 3,
   "id": "92ca417c",
   "metadata": {},
   "outputs": [],
   "source": [
    "import subprocess "
   ]
  },
  {
   "cell_type": "code",
   "execution_count": 4,
   "id": "b1c9d68b",
   "metadata": {},
   "outputs": [
    {
     "data": {
      "text/plain": [
       "CompletedProcess(args=['touch', 'test.py'], returncode=0)"
      ]
     },
     "execution_count": 4,
     "metadata": {},
     "output_type": "execute_result"
    }
   ],
   "source": [
    "subprocess.run(\"ls\")\n",
    "subprocess.run([\"touch\", \"test.py\"])"
   ]
  },
  {
   "cell_type": "code",
   "execution_count": 20,
   "id": "7a855e4e",
   "metadata": {},
   "outputs": [],
   "source": [
    "result=subprocess.run([\"ls\"],stdout=subprocess.PIPE, stderr=subprocess.PIPE)\n",
    "result=subprocess.run([\"ls\"],stdout=subprocess.PIPE, stderr=subprocess.STDOUT)"
   ]
  },
  {
   "cell_type": "code",
   "execution_count": 21,
   "id": "f0803914",
   "metadata": {},
   "outputs": [
    {
     "name": "stdout",
     "output_type": "stream",
     "text": [
      "abc.txt\n",
      "bs4.ipynb\n",
      "cli.ipynb\n",
      "newfile.cpp\n",
      "temp\n",
      "test.py\n",
      "\n"
     ]
    }
   ],
   "source": [
    "print(result.stdout.decode())"
   ]
  },
  {
   "cell_type": "code",
   "execution_count": null,
   "metadata": {},
   "outputs": [],
   "source": [
    "subprocess.run(\"ls -la\",shell=True)"
   ]
  },
  {
   "cell_type": "code",
   "execution_count": null,
   "id": "d93f5548",
   "metadata": {},
   "outputs": [],
   "source": [
    "file_name='abc.txt' \n",
    "command=\"cat {}\".format(file_name)\n",
    "subprocess.run(command,shell=True,stdout=subprocess.PIPE,stderr=subprocess.PIPE,input=\"abc\\ndef\".encode())"
   ]
  },
  {
   "cell_type": "code",
   "execution_count": null,
   "id": "232182c9",
   "metadata": {},
   "outputs": [],
   "source": [
    "import shlex\n",
    "shlex.quote(file_name)\n"
   ]
  },
  {
   "cell_type": "code",
   "execution_count": 12,
   "id": "17bb61f2",
   "metadata": {},
   "outputs": [
    {
     "data": {
      "text/plain": [
       "CompletedProcess(args='sleep 5', returncode=0)"
      ]
     },
     "execution_count": 12,
     "metadata": {},
     "output_type": "execute_result"
    }
   ],
   "source": [
    "subprocess.run(\"sleep 5\", shell=True, timeout=6)"
   ]
  },
  {
   "cell_type": "code",
   "execution_count": 13,
   "id": "ff7eebfa",
   "metadata": {},
   "outputs": [
    {
     "name": "stdout",
     "output_type": "stream",
     "text": [
      "Err\n"
     ]
    }
   ],
   "source": [
    "obj=subprocess.run(\"rm xyz.txt\", shell=True)\n",
    "if obj.returncode==1:\n",
    "    print(\"Err\")"
   ]
  },
  {
   "cell_type": "code",
   "execution_count": 14,
   "id": "ed5347d0",
   "metadata": {},
   "outputs": [
    {
     "name": "stdout",
     "output_type": "stream",
     "text": [
      "Err\n"
     ]
    }
   ],
   "source": [
    "try:\n",
    "    subprocess.run(\"rm xyz.txt\", shell=True, check=True)\n",
    "except subprocess.CalledProcessError:\n",
    "    print(\"Err\")\n"
   ]
  },
  {
   "cell_type": "code",
   "execution_count": 38,
   "id": "771b0794",
   "metadata": {},
   "outputs": [
    {
     "name": "stdout",
     "output_type": "stream",
     "text": [
      "Pseudo-terminal will not be allocated because stdin is not a terminal.\n",
      "ssh_askpass: exec(/usr/bin/ssh-askpass): No such file or directory\n",
      "Permission denied, please try again.\n",
      "ssh_askpass: exec(/usr/bin/ssh-askpass): No such file or directory\n",
      "Permission denied, please try again.\n",
      "ssh_askpass: exec(/usr/bin/ssh-askpass): No such file or directory\n",
      "limechat@13.94.61.225: Permission denied (publickey,password).\n",
      "\n"
     ]
    }
   ],
   "source": [
    "# result=subprocess.run(\"sudo apt-get install sshpass\",shell=True,stdout=subprocess.PIPE, stderr=subprocess.PIPE)\n",
    "result=subprocess.run(\"ssh limechat@13.94.61.225\",shell=True,stdout=subprocess.PIPE, stderr=subprocess.PIPE)\n",
    "# result=subprocess.run(\"nvidia-smi\",shell=True,stdout=subprocess.PIPE, stderr=subprocess.PIPE)\n",
    "print(result.stderr.decode())"
   ]
  },
  {
   "cell_type": "code",
   "execution_count": null,
   "id": "bb94d154",
   "metadata": {},
   "outputs": [],
   "source": []
  }
 ],
 "metadata": {
  "interpreter": {
   "hash": "31f2aee4e71d21fbe5cf8b01ff0e069b9275f58929596ceb00d14d90e3e16cd6"
  },
  "kernelspec": {
   "display_name": "Python 3.8.5 64-bit",
   "language": "python",
   "name": "python3"
  },
  "language_info": {
   "codemirror_mode": {
    "name": "ipython",
    "version": 3
   },
   "file_extension": ".py",
   "mimetype": "text/x-python",
   "name": "python",
   "nbconvert_exporter": "python",
   "pygments_lexer": "ipython3",
   "version": "3.6.13"
  }
 },
 "nbformat": 4,
 "nbformat_minor": 5
}
